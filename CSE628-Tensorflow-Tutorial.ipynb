{
 "cells": [
  {
   "cell_type": "markdown",
   "metadata": {},
   "source": [
    "# About this tutorial\n",
    "\n",
    "This introductory tutorial to TensorFlow will give an overview of some of the basic concepts of TensorFlow in Python. It would help you to get started with this framework and do your assignments! We will discuss the concept behind Tensorflow, basic operatios, and simple models only. Most of our dicussion would be related to the low level APIs.\n",
    "\n",
    "Author,\n",
    "\n",
    "Leena Shekhar, Stony Brook University"
   ]
  },
  {
   "cell_type": "code",
   "execution_count": 2,
   "metadata": {
    "collapsed": false
   },
   "outputs": [],
   "source": [
    "# imports\n",
    "from tensorflow.examples.tutorials.mnist import input_data\n",
    "from IPython.display import HTML, Image\n",
    "import tensorflow as tf\n",
    "import numpy as np\n",
    "import time\n",
    "import os"
   ]
  },
  {
   "cell_type": "code",
   "execution_count": 11,
   "metadata": {
    "collapsed": false
   },
   "outputs": [
    {
     "name": "stdout",
     "output_type": "stream",
     "text": [
      "Tensor(\"Const_2:0\", shape=(), dtype=string)\n",
      "Uh oh!\n",
      "Hello, CSE 628!\n"
     ]
    }
   ],
   "source": [
    "hello = tf.constant('Hello, CSE 628!')\n",
    "print(hello)\n",
    "print(\"Uh oh!\")\n",
    "sess = tf.Session()\n",
    "print(sess.run(hello))\n",
    "sess.close()"
   ]
  },
  {
   "cell_type": "markdown",
   "metadata": {},
   "source": [
    "## Tensorflow Overview"
   ]
  },
  {
   "cell_type": "markdown",
   "metadata": {},
   "source": [
    "#### What is Tensorflow?\n",
    "\n",
    "1. It is an open source software by Google, designed to allow efficient computation of data flow graphs, is especially suited to deep learning tasks.  \n",
    "\n",
    "2. It is designed to be executed on a single or multiple CPUs and GPUs, making it a good option for complex deep learning tasks.\n",
    "\n",
    "3. Nodes in the graph represent mathematical operations, while the graph edges represent the multidimensional data arrays (tensors) communicated between them."
   ]
  },
  {
   "cell_type": "markdown",
   "metadata": {},
   "source": [
    "## Setup & Installation"
   ]
  },
  {
   "cell_type": "markdown",
   "metadata": {},
   "source": [
    "Installating Tensorflow is easy and well explained here: https://www.tensorflow.org/install/."
   ]
  },
  {
   "cell_type": "markdown",
   "metadata": {},
   "source": [
    "## Tensorflow Graph & Session\n",
    "\n",
    "Note: This is an important section as people usually get confused over the rules of tf.Graph and tf.Session so understand this carefuly."
   ]
  },
  {
   "cell_type": "markdown",
   "metadata": {},
   "source": [
    "#### What is a Tensor?\n",
    "\n",
    "An n-dimensional matrix. \n",
    "\n",
    "1. 0-d tensor: scalar/number\n",
    "2. 1-d tensor: vector\n",
    "3. 2-d tensor: matrix and so on ..."
   ]
  },
  {
   "cell_type": "markdown",
   "metadata": {},
   "source": [
    "#### What is a dataflow graph?\n",
    "\n",
    "TensorFlow uses a dataflow graph to represent all the computation in terms of the dependencies between individual operations. \n",
    "\n",
    "This leads to a low-level programming model in which you first define the dataflow graph, then create a TensorFlow session to run parts of the graph across a set of devices (local and remote). \n",
    "\n",
    "#### Why a dataflow grap?\n",
    "\n",
    "Consider the following expression a=(b+c)∗(c+2). We can break this function down into the following components:\n",
    "\n",
    "d= b + c\n",
    "\n",
    "e = c + 2\n",
    "\n",
    "a = d * e\n",
    "\n",
    "Now these operations can be represented graphically as:"
   ]
  },
  {
   "cell_type": "code",
   "execution_count": 8,
   "metadata": {
    "collapsed": false
   },
   "outputs": [
    {
     "data": {
      "image/png": "[encoded data removed]",
      "text/plain": [
       "<IPython.core.display.Image object>"
      ]
     },
     "execution_count": 8,
     "metadata": {},
     "output_type": "execute_result"
    }
   ],
   "source": [
    "Image(filename=\"images/simple-dataflow-graph.png\")"
   ]
  },
  {
   "cell_type": "markdown",
   "metadata": {},
   "source": [
    "Two of the computations (d=b+c and e=c+2) can be performed in parallel.  By splitting up these calculations across CPUs or GPUs, this can give us significant gains in computational times.  \n",
    "\n",
    "These gains are a must for big data applications and deep learning – especially for complicated neural network architectures such as Convolutional Neural Networks (CNNs) and Recurrent Neural Networks (RNNs).\n",
    "Advantages:\n",
    "\n",
    "Read about advantages in detail here: https://www.tensorflow.org/programmers_guide/graphs."
   ]
  },
  {
   "cell_type": "markdown",
   "metadata": {},
   "source": [
    "#### What does a Tensorflow graph look like?\n",
    "\n",
    "The graph below shows the computational graph of a three-layer neural network. \n",
    "\n",
    "1. Input Layer: The animated data flows between different nodes in the graph are tensors which are multi-dimensional data arrays. \n",
    "\n",
    "2. Intemediate Layer: After the input layer there is a hidden layer with rectified linear units as the activation function. \n",
    "\n",
    "3. Output Layer: There is a final output layer (called a “logit layer” in the above graph) which uses cross entropy as a loss function. \n",
    "\n",
    "At each point we see the relevant tensors flowing to the “Gradients” block which finally flow to the Stochastic Gradient Descent optimiser which performs the back-propagation and gradient descent."
   ]
  },
  {
   "cell_type": "code",
   "execution_count": 10,
   "metadata": {
    "collapsed": false
   },
   "outputs": [
    {
     "data": {
      "text/html": [
       "<img src=\"http://adventuresinmachinelearning.com/wp-content/uploads/2017/03/TensorFlow-data-flow-graph.gif\">"
      ],
      "text/plain": [
       "<IPython.core.display.HTML object>"
      ]
     },
     "execution_count": 10,
     "metadata": {},
     "output_type": "execute_result"
    }
   ],
   "source": [
    "HTML('<img src=\"http://adventuresinmachinelearning.com/wp-content/uploads/2017/03/TensorFlow-data-flow-graph.gif\">')"
   ]
  },
  {
   "cell_type": "markdown",
   "metadata": {},
   "source": [
    "#### What is a session?\n",
    "\n",
    "1. A graph defines the computation. It doesn’t compute anything as it doesn’t hold any values, it just defines the operations that you specified in your code.\n",
    "\n",
    "2. A session allows to execute graphs or part of graphs. It allocates resources (on one or more machines) for that and holds the actual values of intermediate results and variables."
   ]
  },
  {
   "cell_type": "code",
   "execution_count": 30,
   "metadata": {
    "collapsed": false
   },
   "outputs": [],
   "source": [
    "# explicitly defining a default graph. \n",
    "mygraph = tf.Graph()\n",
    "with mygraph.as_default():\n",
    "  variable = tf.Variable(42, name='my_var') # operation 1\n",
    "  initialize = tf.global_variables_initializer() # operation 2\n",
    "  assign = variable.assign(13) # operation 3"
   ]
  },
  {
   "cell_type": "markdown",
   "metadata": {},
   "source": [
    "To run any of the three defined operations above, we need to create a session for that graph. The session will also allocate memory to store the current value of the variable."
   ]
  },
  {
   "cell_type": "code",
   "execution_count": 31,
   "metadata": {
    "collapsed": false
   },
   "outputs": [
    {
     "name": "stdout",
     "output_type": "stream",
     "text": [
      "13\n"
     ]
    }
   ],
   "source": [
    "# printing the output in a session\n",
    "with tf.Session(graph=mygraph) as sess:\n",
    "  sess.run(initialize)\n",
    "  sess.run(assign)\n",
    "  print(sess.run(variable))"
   ]
  },
  {
   "cell_type": "markdown",
   "metadata": {},
   "source": [
    "When you launch the graph, variables have to be explicitly initialized before you can run operations that use their value.\n",
    "\n",
    "The value of our variable is only valid within one session. If we try to query the value afterwards in a second session, TensorFlow will raise an error because the variable is not initialized there. "
   ]
  },
  {
   "cell_type": "code",
   "execution_count": 29,
   "metadata": {
    "collapsed": false
   },
   "outputs": [],
   "source": [
    "# error: Attempting to use uninitialized value my_var\n",
    "with tf.Session(graph=mygraph) as sess:\n",
    "  print(sess.run(variable))"
   ]
  },
  {
   "cell_type": "code",
   "execution_count": 32,
   "metadata": {
    "collapsed": false
   },
   "outputs": [
    {
     "name": "stdout",
     "output_type": "stream",
     "text": [
      "42\n"
     ]
    }
   ],
   "source": [
    "# printing the output in a different session\n",
    "with tf.Session(graph=mygraph) as sess:\n",
    "  sess.run(initialize)\n",
    "  print(sess.run(variable))"
   ]
  },
  {
   "cell_type": "markdown",
   "metadata": {},
   "source": [
    "We can use the graph in more than one session, we just have to initialize the variables again. The values in the new session will be completely independent from the first one"
   ]
  },
  {
   "cell_type": "markdown",
   "metadata": {},
   "source": [
    "Note: You can have multiple graphs though that is preferable. This is out of scope for us. "
   ]
  },
  {
   "cell_type": "markdown",
   "metadata": {},
   "source": [
    "#### Spot the difference!"
   ]
  },
  {
   "cell_type": "code",
   "execution_count": 8,
   "metadata": {
    "collapsed": false
   },
   "outputs": [
    {
     "name": "stdout",
     "output_type": "stream",
     "text": [
      "This is an abstraction: Tensor(\"Add_5:0\", shape=(), dtype=int32)\n",
      "This is an actual calculation: 8\n"
     ]
    }
   ],
   "source": [
    "c = tf.add(3, 5)\n",
    "print(\"This is an abstraction: {}\".format(c))\n",
    "\n",
    "c = np.add(3, 5)\n",
    "print(\"This is an actual calculation: {}\".format(c))"
   ]
  },
  {
   "cell_type": "markdown",
   "metadata": {},
   "source": [
    "## Basic Operations"
   ]
  },
  {
   "cell_type": "markdown",
   "metadata": {},
   "source": [
    "Let’s make TensorFlow perform our simple calculation above a=(b+c)∗(c+2)."
   ]
  },
  {
   "cell_type": "code",
   "execution_count": 33,
   "metadata": {
    "collapsed": true
   },
   "outputs": [],
   "source": [
    "# first, create a TensorFlow constant\n",
    "const = tf.constant(2.0, name=\"const\")\n",
    "\n",
    "# create TensorFlow variables\n",
    "b = tf.Variable(2.0, name='b')\n",
    "c = tf.Variable(1.0, name='c')"
   ]
  },
  {
   "cell_type": "markdown",
   "metadata": {},
   "source": [
    "1. The first element in both is the value to be assigned the constant / variable when it is initialised. \n",
    " \n",
    "2. The second is an optional name string which can be used to label the constant / variable – this is handy for when you want to do visualisations.  \n",
    "\n",
    "TensorFlow will infer the type of the constant / variable from the initialised value, but it can also be set explicitly using the optional dtype argument.  "
   ]
  },
  {
   "cell_type": "code",
   "execution_count": 35,
   "metadata": {
    "collapsed": false
   },
   "outputs": [
    {
     "name": "stdout",
     "output_type": "stream",
     "text": [
      "Variable a is 9.0\n"
     ]
    }
   ],
   "source": [
    "# now create some operations\n",
    "d = tf.add(b, c, name='d')\n",
    "e = tf.add(c, const, name='e')\n",
    "a = tf.multiply(d, e, name='a')\n",
    "\n",
    "# setup the variable initialisation\n",
    "init_op = tf.global_variables_initializer()\n",
    "\n",
    "# start the session\n",
    "with tf.Session() as sess:\n",
    "    # initialise the variables\n",
    "    sess.run(init_op)\n",
    "    # compute the output of the graph\n",
    "    a_out = sess.run(a)\n",
    "    print(\"Variable a is {}\".format(a_out))"
   ]
  },
  {
   "cell_type": "code",
   "execution_count": 36,
   "metadata": {
    "collapsed": false
   },
   "outputs": [
    {
     "data": {
      "image/png": "[encoded data removed]",
      "text/plain": [
       "<IPython.core.display.Image object>"
      ]
     },
     "execution_count": 36,
     "metadata": {},
     "output_type": "execute_result"
    }
   ],
   "source": [
    "Image(filename=\"images/basic-ops.png\")"
   ]
  },
  {
   "cell_type": "markdown",
   "metadata": {},
   "source": [
    "Note: We defined operations d and e which need to be calculated before we can figure out what a is.  However, we don’t have to explicitly run those operations, as TensorFlow knows what other operations and variables the operation a depends on, and therefore runs the necessary operations on its own."
   ]
  },
  {
   "cell_type": "markdown",
   "metadata": {},
   "source": [
    "Let’s say that we didn’t know what the value of the array b would be during the declaration phase of the TensorFlow problem (i.e. before the with tf.Session() as sess) stage.  In this case, TensorFlow requires us to declare the basic structure of the data by using the tf.placeholder variable declaration.  Let’s use it for b:"
   ]
  },
  {
   "cell_type": "code",
   "execution_count": 46,
   "metadata": {
    "collapsed": false
   },
   "outputs": [
    {
     "name": "stdout",
     "output_type": "stream",
     "text": [
      "[[  3.]\n",
      " [  6.]\n",
      " [  9.]\n",
      " [ 12.]\n",
      " [ 15.]\n",
      " [ 18.]\n",
      " [ 21.]\n",
      " [ 24.]\n",
      " [ 27.]\n",
      " [ 30.]]\n"
     ]
    }
   ],
   "source": [
    "# create TensorFlow variables\n",
    "b = tf.placeholder(tf.float32, [None, 1], name='b')\n",
    "# passing a feed_dict\n",
    "a_out = sess.run(a, feed_dict={b: np.arange(0, 10)[:, np.newaxis]})"
   ]
  },
  {
   "cell_type": "markdown",
   "metadata": {},
   "source": [
    "## Logistic Regression Model"
   ]
  },
  {
   "cell_type": "markdown",
   "metadata": {},
   "source": [
    "#### Dataset\n",
    "\n",
    "The MNIST data is split into three parts: \n",
    "1. 55,000 data points of training data (mnist.train)\n",
    "2. 10,000 points of test data (mnist.test), and \n",
    "3. 5,000 points of validation data (mnist.validation). This split is very important!\n",
    "\n",
    "We call the images \"x\" and the labels \"y\". Each image is 28 pixels by 28 pixels- once flattened 784 numbers. Each entry in the tensor is a pixel intensity between 0 and 1, for a particular pixel in a particular image. Each image in MNIST has a corresponding label, a number between 0 and 9 representing the digit drawn in the image."
   ]
  },
  {
   "cell_type": "code",
   "execution_count": 52,
   "metadata": {
    "collapsed": false
   },
   "outputs": [
    {
     "name": "stdout",
     "output_type": "stream",
     "text": [
      "Extracting data/mnist/train-images-idx3-ubyte.gz\n",
      "Extracting data/mnist/train-labels-idx1-ubyte.gz\n",
      "Extracting data/mnist/t10k-images-idx3-ubyte.gz\n",
      "Extracting data/mnist/t10k-labels-idx1-ubyte.gz\n",
      "Average loss epoch 0: 0.3861464683079358\n",
      "Average loss epoch 1: 0.29464793175736786\n",
      "Average loss epoch 2: 0.2856706651600647\n",
      "Average loss epoch 3: 0.2782576082573904\n",
      "Average loss epoch 4: 0.2753128338874359\n",
      "Average loss epoch 5: 0.27022614317896204\n",
      "Average loss epoch 6: 0.2720287488057063\n",
      "Average loss epoch 7: 0.2678517510285189\n",
      "Average loss epoch 8: 0.26636519675557707\n",
      "Average loss epoch 9: 0.2629819009235967\n",
      "Average loss epoch 10: 0.2644225309552985\n",
      "Average loss epoch 11: 0.26216433928424104\n",
      "Average loss epoch 12: 0.2620600197281871\n",
      "Average loss epoch 13: 0.2604972397635033\n",
      "Average loss epoch 14: 0.2584650092921057\n",
      "Average loss epoch 15: 0.258842202246467\n",
      "Average loss epoch 16: 0.2559284618806033\n",
      "Average loss epoch 17: 0.2599306968160165\n",
      "Average loss epoch 18: 0.2577648591814619\n",
      "Average loss epoch 19: 0.2565657469532984\n",
      "Average loss epoch 20: 0.25517073702631576\n",
      "Average loss epoch 21: 0.25701386214066774\n",
      "Average loss epoch 22: 0.25577037797975927\n",
      "Average loss epoch 23: 0.25549264193136934\n",
      "Average loss epoch 24: 0.2539541015536079\n",
      "Average loss epoch 25: 0.25239467247452213\n",
      "Average loss epoch 26: 0.25446201537872526\n",
      "Average loss epoch 27: 0.25342572923306816\n",
      "Average loss epoch 28: 0.25167106692885466\n",
      "Average loss epoch 29: 0.2507435698192436\n",
      "Total time: 18.18396306037903 seconds\n",
      "Optimization Finished!\n",
      "Accuracy 0.9182\n",
      "Model saved in path: examples/graphs/logistic_reg/lr_model.ckpt\n"
     ]
    }
   ],
   "source": [
    "\"\"\" Simple logistic regression model to solve OCR task \n",
    "\"\"\"\n",
    "# INFO and WARNING messages are not printed\n",
    "os.environ['TF_CPP_MIN_LOG_LEVEL']='2'\n",
    "\n",
    "# Define hyperparamaters for the model\n",
    "learning_rate = 0.01\n",
    "batch_size = 128\n",
    "n_epochs = 30\n",
    "\n",
    "# Step 1: Read in data\n",
    "# using TF Learn's built in function to load MNIST data to the folder data/mnist\n",
    "mnist = input_data.read_data_sets('data/mnist', one_hot=True) \n",
    "\n",
    "# Step 2: create placeholders for features and labels\n",
    "# each image in the MNIST data is of shape 28*28 = 784\n",
    "# therefore, each image is represented with a 1x784 tensor\n",
    "# there are 10 classes for each image, corresponding to digits 0 - 9. \n",
    "# each lable is one hot vector.\n",
    "X = tf.placeholder(tf.float32, [batch_size, 784], name='X_placeholder') \n",
    "Y = tf.placeholder(tf.int32, [batch_size, 10], name='Y_placeholder')\n",
    "\n",
    "# Step 3: create weights and bias\n",
    "# w is initialized to random variables with mean of 0, stddev of 0.01\n",
    "# b is initialized to 0\n",
    "# shape of w depends on the dimension of X and Y so that Y = tf.matmul(X, w)\n",
    "# shape of b depends on Y\n",
    "w = tf.Variable(tf.random_normal(shape=[784, 10], stddev=0.01), name='weights')\n",
    "b = tf.Variable(tf.zeros([1, 10]), name=\"bias\")\n",
    "\n",
    "# Step 4: build model\n",
    "# the model that returns the logits.\n",
    "# this logits will be later passed through softmax layer\n",
    "logits = tf.matmul(X, w) + b \n",
    "\n",
    "# Step 5: define loss function\n",
    "# use cross entropy of softmax of logits as the loss function\n",
    "cross_entropy = tf.nn.softmax_cross_entropy_with_logits(logits=logits, labels=Y, name='loss')\n",
    "# computes the mean over all the examples in the batch\n",
    "loss = tf.reduce_mean(cross_entropy) \n",
    "\n",
    "# Step 6: define training op\n",
    "# using gradient descent with learning rate of 0.01 to minimize loss\n",
    "optimizer = tf.train.AdamOptimizer(learning_rate).minimize(loss)\n",
    "\n",
    "# Add ops to save and restore all the variables.\n",
    "saver = tf.train.Saver()\n",
    "\n",
    "with tf.Session() as sess:\n",
    "\t# to visualize using TensorBoard\n",
    "\twriter = tf.summary.FileWriter('examples/graphs/logistic_reg', sess.graph)\n",
    "\n",
    "    #training the model\n",
    "\tstart_time = time.time()\n",
    "\tsess.run(tf.global_variables_initializer())\t\n",
    "\tn_batches = int(mnist.train.num_examples/batch_size)\n",
    "    # train the model n_epochs times\n",
    "\tfor i in range(n_epochs): \n",
    "\t\ttotal_loss = 0\n",
    "\t\tfor _ in range(n_batches):\n",
    "\t\t\tX_batch, Y_batch = mnist.train.next_batch(batch_size)\n",
    "\t\t\t# pass all variables whose values you want as a list            \n",
    "\t\t\t_, loss_batch = sess.run([optimizer, loss], feed_dict={X: X_batch, Y:Y_batch}) \n",
    "\t\t\ttotal_loss += loss_batch\n",
    "\t\tprint('Average loss epoch {0}: {1}'.format(i, total_loss/n_batches))\n",
    "\n",
    "\tprint('Total time: {0} seconds'.format(time.time() - start_time))\n",
    "\tprint('Optimization Finished!') \n",
    "\n",
    "\t#testing the model\n",
    "\t\n",
    "\tpreds = tf.nn.softmax(logits)\n",
    "    # get the index of the highest entry in a tensor along some axis\n",
    "\tcorrect_preds = tf.equal(tf.argmax(preds, 1), tf.argmax(Y, 1))\n",
    "    # gives us a list of booleans. determine what fraction are correct, we cast to floating point numbers and then take the mean\n",
    "\taccuracy = tf.reduce_sum(tf.cast(correct_preds, tf.float32)) \n",
    "\t\n",
    "\tn_batches = int(mnist.test.num_examples/batch_size)\n",
    "\ttotal_correct_preds = 0\n",
    "\t\n",
    "\tfor i in range(n_batches):\n",
    "\t\tX_batch, Y_batch = mnist.test.next_batch(batch_size)\n",
    "\t\taccuracy_batch = sess.run([accuracy], feed_dict={X: X_batch, Y:Y_batch}) \n",
    "\t\ttotal_correct_preds += accuracy_batch[0]\t\n",
    "\t\n",
    "\tprint('Accuracy {0}'.format(total_correct_preds/mnist.test.num_examples))\n",
    "\n",
    "\tsave_path = saver.save(sess, \"examples/graphs/logistic_reg/lr_model.ckpt\")\n",
    "\tprint(\"Model saved in path: %s\" % save_path)\n",
    "\twriter.close()\n"
   ]
  },
  {
   "cell_type": "markdown",
   "metadata": {},
   "source": [
    "There we go – approximately 92% accuracy on the test set, not bad.  We could do a number of things to improve the model, but here we are just interested in exploring TensorFlow. "
   ]
  },
  {
   "cell_type": "markdown",
   "metadata": {},
   "source": [
    "#### Why so many saved files??"
   ]
  },
  {
   "cell_type": "markdown",
   "metadata": {},
   "source": [
    "TensorFlow save method saves three kinds of files because it stores the graph structure separately from the variable values.\n",
    "\n",
    "1. The .meta file describes the saved graph structure.\n",
    "2. .data stores the values of each variable in the graph\n",
    "3. .index identifies the checkpoint"
   ]
  },
  {
   "cell_type": "code",
   "execution_count": 53,
   "metadata": {
    "collapsed": false
   },
   "outputs": [
    {
     "data": {
      "text/plain": [
       "2"
      ]
     },
     "execution_count": 53,
     "metadata": {},
     "output_type": "execute_result"
    }
   ],
   "source": [
    "# start tensorboard for visualization\n",
    "os.system('tensorboard --logdir examples/graphs/')\n",
    "\n",
    "# navigate to http://127.0.1.1:6006"
   ]
  },
  {
   "cell_type": "markdown",
   "metadata": {},
   "source": [
    "More about tensorboard here, https://www.tensorflow.org/programmers_guide/summaries_and_tensorboard."
   ]
  },
  {
   "cell_type": "markdown",
   "metadata": {},
   "source": [
    "### References\n",
    "\n",
    "1. [Tensorflow](https://www.tensorflow.org/)\n",
    "2. [Stanford CS 20](https://web.stanford.edu/class/cs20si/)\n",
    "3. [Danijar Hafner Blog](https://danijar.com/what-is-a-tensorflow-session/)\n",
    "4. [Adventures in ML](http://adventuresinmachinelearning.com/python-tensorflow-tutorial/)\n",
    "\n",
    "<span style=\"color:red\">Note: Please <b>DO NOT</b> refer to any code outside for your assignment!</span>"
   ]
  },
  {
   "cell_type": "markdown",
   "metadata": {},
   "source": []
  }
 ],
 "metadata": {
  "kernelspec": {
   "display_name": "Python 2",
   "language": "python",
   "name": "python2"
  },
  "language_info": {
   "codemirror_mode": {
    "name": "ipython",
    "version": 2
   },
   "file_extension": ".py",
   "mimetype": "text/x-python",
   "name": "python",
   "nbconvert_exporter": "python",
   "pygments_lexer": "ipython2",
   "version": "2.7.13"
  }
 },
 "nbformat": 4,
 "nbformat_minor": 2
}
